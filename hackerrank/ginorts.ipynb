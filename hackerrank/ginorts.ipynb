{
 "cells": [
  {
   "cell_type": "markdown",
   "id": "1c285323",
   "metadata": {},
   "source": [
    "# ginortS"
   ]
  },
  {
   "cell_type": "markdown",
   "id": "3a922531",
   "metadata": {},
   "source": [
    "### Problem:"
   ]
  },
  {
   "cell_type": "markdown",
   "id": "92f54d53",
   "metadata": {},
   "source": [
    "You are given a string **S**.<br>\n",
    "**S** contains alphanumeric characters only."
   ]
  },
  {
   "cell_type": "markdown",
   "id": "b63ae4a1",
   "metadata": {},
   "source": [
    "Your task is to sort the string S in the following manner:"
   ]
  },
  {
   "cell_type": "markdown",
   "id": "6454598f",
   "metadata": {},
   "source": [
    "► All sorted lowercase letters are ahead of uppercase letters.<br>\n",
    "► All sorted uppercase letters are ahead of digits.<br>\n",
    "► All sorted odd digits are ahead of sorted even digits."
   ]
  },
  {
   "cell_type": "markdown",
   "id": "1d2cd67a",
   "metadata": {},
   "source": [
    "### Input Format\n",
    "A single line of input contains the string S."
   ]
  },
  {
   "cell_type": "markdown",
   "id": "dce338da",
   "metadata": {},
   "source": [
    "### Constraints\n",
    "0 < len(S) < 1000"
   ]
  },
  {
   "cell_type": "markdown",
   "id": "f387b9db",
   "metadata": {},
   "source": [
    "### Output Format\n",
    "\n",
    "Output the sorted string S."
   ]
  },
  {
   "cell_type": "markdown",
   "id": "428dbf2b",
   "metadata": {},
   "source": [
    "### My solution:"
   ]
  },
  {
   "cell_type": "code",
   "execution_count": 3,
   "id": "dd6b3159",
   "metadata": {},
   "outputs": [
    {
     "name": "stdout",
     "output_type": "stream",
     "text": [
      "Sorting1234\n",
      "ginortS1324\n"
     ]
    }
   ],
   "source": [
    "l = list(input())\n",
    "low = []\n",
    "up = []\n",
    "odd = []\n",
    "even = []\n",
    "for i in l:\n",
    "    if i.islower():\n",
    "        low.append(i)\n",
    "    elif i.isupper():\n",
    "        up.append(i)\n",
    "    elif i.isdigit() and int(i) % 2 == 1:\n",
    "        odd.append(i)\n",
    "    elif i.isdigit() and int(i) % 2 == 0:\n",
    "        even.append(i)\n",
    "print(''.join(sorted(low) + sorted(up) + sorted(odd) + sorted(even)))"
   ]
  }
 ],
 "metadata": {
  "kernelspec": {
   "display_name": "Python 3 (ipykernel)",
   "language": "python",
   "name": "python3"
  },
  "language_info": {
   "codemirror_mode": {
    "name": "ipython",
    "version": 3
   },
   "file_extension": ".py",
   "mimetype": "text/x-python",
   "name": "python",
   "nbconvert_exporter": "python",
   "pygments_lexer": "ipython3",
   "version": "3.9.13"
  }
 },
 "nbformat": 4,
 "nbformat_minor": 5
}
