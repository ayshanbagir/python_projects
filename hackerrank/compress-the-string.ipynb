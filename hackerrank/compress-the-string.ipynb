{
 "cells": [
  {
   "cell_type": "markdown",
   "id": "1c285323",
   "metadata": {},
   "source": [
    "# Compress the String!"
   ]
  },
  {
   "cell_type": "markdown",
   "id": "3a922531",
   "metadata": {},
   "source": [
    "### Problem:"
   ]
  },
  {
   "cell_type": "markdown",
   "id": "92f54d53",
   "metadata": {},
   "source": [
    "You are given a string **S**. Suppose a character '**c**' occurs consecutively **x** times in the string. <br>\n",
    "Replace these consecutive occurrences of the character 'c' with **(x, c)** in the string."
   ]
  },
  {
   "cell_type": "markdown",
   "id": "b63ae4a1",
   "metadata": {},
   "source": [
    "Your task is to sort the string S in the following manner:"
   ]
  },
  {
   "cell_type": "markdown",
   "id": "1d2cd67a",
   "metadata": {},
   "source": [
    "### Input Format\n",
    "A single line of input consisting of the string S."
   ]
  },
  {
   "cell_type": "markdown",
   "id": "dce338da",
   "metadata": {},
   "source": [
    "### Constraints\n",
    "All the characters of S denote integers between **0** and **9**."
   ]
  },
  {
   "cell_type": "markdown",
   "id": "f387b9db",
   "metadata": {},
   "source": [
    "### Output Format\n",
    "\n",
    "A single line of output consisting of the modified string."
   ]
  },
  {
   "cell_type": "markdown",
   "id": "428dbf2b",
   "metadata": {},
   "source": [
    "### My solution:"
   ]
  },
  {
   "cell_type": "code",
   "execution_count": 5,
   "id": "dd6b3159",
   "metadata": {},
   "outputs": [
    {
     "name": "stdout",
     "output_type": "stream",
     "text": [
      "1222311\n",
      "(1, 1) (3, 2) (1, 3) (2, 1) \n"
     ]
    }
   ],
   "source": [
    "s = list(input()) + [-1]\n",
    "x = 1\n",
    "l = ''\n",
    "for i in range(len(s) - 1):\n",
    "    if s[i] == s[i + 1]:\n",
    "        x += 1\n",
    "    else:\n",
    "        l = l + '({}, {}) '.format(x, s[i])\n",
    "        x = 1\n",
    "print(l)"
   ]
  }
 ],
 "metadata": {
  "kernelspec": {
   "display_name": "Python 3 (ipykernel)",
   "language": "python",
   "name": "python3"
  },
  "language_info": {
   "codemirror_mode": {
    "name": "ipython",
    "version": 3
   },
   "file_extension": ".py",
   "mimetype": "text/x-python",
   "name": "python",
   "nbconvert_exporter": "python",
   "pygments_lexer": "ipython3",
   "version": "3.9.13"
  }
 },
 "nbformat": 4,
 "nbformat_minor": 5
}
