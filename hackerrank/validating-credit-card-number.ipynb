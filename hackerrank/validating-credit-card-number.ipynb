{
 "cells": [
  {
   "cell_type": "markdown",
   "id": "1c285323",
   "metadata": {},
   "source": [
    "# Validating Credit Card Numbers"
   ]
  },
  {
   "cell_type": "markdown",
   "id": "3a922531",
   "metadata": {},
   "source": [
    "### Problem:"
   ]
  },
  {
   "cell_type": "markdown",
   "id": "92f54d53",
   "metadata": {},
   "source": [
    "You and Fredrick are good friends. Yesterday, Fredrick received **N** credit cards from ABCD Bank. He wants to verify whether his credit card numbers are valid or not. You happen to be great at regex so he is asking for your help!"
   ]
  },
  {
   "cell_type": "markdown",
   "id": "b63ae4a1",
   "metadata": {},
   "source": [
    "A valid credit card from ABCD Bank has the following characteristics:"
   ]
  },
  {
   "cell_type": "markdown",
   "id": "6454598f",
   "metadata": {},
   "source": [
    "► It must start with a 4, 5 or 6.<br>\n",
    "► It must contain exactly 16 digits.<br>\n",
    "► It must only consist of digits (0-9).<br>\n",
    "► It may have digits in groups of 4, separated by one hyphen \"-\".<br>\n",
    "► It must NOT use any other separator like ' ' , '#', etc.<br>\n",
    "► It must NOT have 4 or more consecutive repeated digits.<br>"
   ]
  },
  {
   "cell_type": "markdown",
   "id": "1d2cd67a",
   "metadata": {},
   "source": [
    "### Input Format\n",
    "The first line of input contains an integer N.<br>\n",
    "The next N lines contain credit card numbers."
   ]
  },
  {
   "cell_type": "markdown",
   "id": "dce338da",
   "metadata": {},
   "source": [
    "### Constraints\n",
    "0 < N < 100"
   ]
  },
  {
   "cell_type": "markdown",
   "id": "f387b9db",
   "metadata": {},
   "source": [
    "### Output Format\n",
    "\n",
    "Print 'Valid' if the credit card number is valid. Otherwise, print 'Invalid'. Do not print the quotes."
   ]
  },
  {
   "cell_type": "markdown",
   "id": "428dbf2b",
   "metadata": {},
   "source": [
    "### My solution:"
   ]
  },
  {
   "cell_type": "code",
   "execution_count": 1,
   "id": "dd6b3159",
   "metadata": {},
   "outputs": [
    {
     "name": "stdout",
     "output_type": "stream",
     "text": [
      "6\n",
      "4123456789123456\n",
      "Valid\n",
      "5123-4567-8912-3456\n",
      "Valid\n",
      "61234-567-8912-3456\n",
      "Invalid\n",
      "4123356789123456\n",
      "Valid\n",
      "5133-3367-8912-3456\n",
      "Invalid\n",
      "5123 - 3567 - 8912 - 3456\n",
      "Invalid\n"
     ]
    }
   ],
   "source": [
    "import re\n",
    "for i in range(int(input())):\n",
    "    x = input()\n",
    "    l = re.findall(r'\\d', x)\n",
    "    cons = True\n",
    "    \n",
    "    if l[0] in ['4', '5', '6'] and len(l) == 16:\n",
    "        if len(x) == 16 or (re.search(r'\\d{4}-\\d{4}-\\d{4}-\\d{4}', x) and len(x) == 19):\n",
    "            for j in range(len(l) - 3):\n",
    "                if l[j:j + 4].count(l[j]) == 4:\n",
    "                    cons = False;\n",
    "                    break;\n",
    "                else:\n",
    "                    continue;\n",
    "            if cons:\n",
    "                print('Valid')\n",
    "            else:\n",
    "                print('Invalid')\n",
    "        else:\n",
    "            print('Invalid')\n",
    "    else:\n",
    "        print('Invalid')"
   ]
  },
  {
   "cell_type": "markdown",
   "id": "cc52f83f",
   "metadata": {},
   "source": [
    "### My solution 2:"
   ]
  },
  {
   "cell_type": "code",
   "execution_count": 2,
   "id": "4ecf429e",
   "metadata": {},
   "outputs": [
    {
     "name": "stdout",
     "output_type": "stream",
     "text": [
      "6\n",
      "4123456789123456\n",
      "Valid\n",
      "5123-4567-8912-3456\n",
      "Valid\n",
      "61234-567-8912-3456\n",
      "Invalid\n",
      "4123356789123456\n",
      "Valid\n",
      "5133-3367-8912-3456\n",
      "Invalid\n",
      "5123 - 3567 - 8912 - 3456\n",
      "Invalid\n"
     ]
    }
   ],
   "source": [
    "import re\n",
    "for i in range(int(input())):\n",
    "    x = input()\n",
    "    l = re.findall(r'\\d', x)\n",
    "    cons = True\n",
    "    for j in range(len(l) - 3):\n",
    "        if l[j:j + 4].count(l[j]) == 4:\n",
    "            cons = False;\n",
    "            break;\n",
    "        else:\n",
    "            continue;\n",
    "    \n",
    "    if not cons:\n",
    "        print('Invalid')\n",
    "    elif l[0] not in ['4', '5', '6']:\n",
    "        print('Invalid')\n",
    "    elif len(l) != 16:\n",
    "        print('Invalid')        \n",
    "    elif len(x) == 16:\n",
    "        print('Valid')\n",
    "    elif re.search(r'\\d{4}-\\d{4}-\\d{4}-\\d{4}', x) and len(x) == 19:\n",
    "        print('Valid')\n",
    "    else:\n",
    "        print('Invalid')"
   ]
  },
  {
   "cell_type": "code",
   "execution_count": null,
   "id": "2b72c83d",
   "metadata": {},
   "outputs": [],
   "source": []
  }
 ],
 "metadata": {
  "kernelspec": {
   "display_name": "Python 3 (ipykernel)",
   "language": "python",
   "name": "python3"
  },
  "language_info": {
   "codemirror_mode": {
    "name": "ipython",
    "version": 3
   },
   "file_extension": ".py",
   "mimetype": "text/x-python",
   "name": "python",
   "nbconvert_exporter": "python",
   "pygments_lexer": "ipython3",
   "version": "3.9.13"
  }
 },
 "nbformat": 4,
 "nbformat_minor": 5
}
