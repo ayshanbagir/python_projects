{
 "cells": [
  {
   "cell_type": "markdown",
   "id": "1c285323",
   "metadata": {},
   "source": [
    "# Company Logo"
   ]
  },
  {
   "cell_type": "markdown",
   "id": "3a922531",
   "metadata": {},
   "source": [
    "### Problem:"
   ]
  },
  {
   "cell_type": "markdown",
   "id": "92f54d53",
   "metadata": {},
   "source": [
    "A newly opened multinational brand has decided to base their company logo on the three most common characters in the company name. They are now trying out various combinations of company names and logos based on this condition. Given a string **s**, which is the company name in lowercase letters, your task is to find the top three most common characters in the string."
   ]
  },
  {
   "cell_type": "markdown",
   "id": "1d2cd67a",
   "metadata": {},
   "source": [
    "### Input Format\n",
    "A single line of input containing the string **S**."
   ]
  },
  {
   "cell_type": "markdown",
   "id": "dce338da",
   "metadata": {},
   "source": [
    "### Constraints\n",
    "**S** has at least 3 distinct characters."
   ]
  },
  {
   "cell_type": "markdown",
   "id": "f387b9db",
   "metadata": {},
   "source": [
    "### Output Format\n",
    "\n",
    "Print the three most common characters along with their occurrence count each on a separate line.<br>\n",
    "Sort output in descending order of occurrence count.<br>\n",
    "If the occurrence count is the same, sort the characters in alphabetical order."
   ]
  },
  {
   "cell_type": "markdown",
   "id": "428dbf2b",
   "metadata": {},
   "source": [
    "### My solution:"
   ]
  },
  {
   "cell_type": "code",
   "execution_count": 1,
   "id": "dd6b3159",
   "metadata": {},
   "outputs": [
    {
     "name": "stdout",
     "output_type": "stream",
     "text": [
      "qqertaabcgcdfrbb\n",
      "b 3\n",
      "a 2\n",
      "c 2\n"
     ]
    }
   ],
   "source": [
    "from collections import Counter\n",
    "\n",
    "if __name__ == '__main__':\n",
    "    l = sorted(list(input()))\n",
    "    s = Counter(l).most_common(3)\n",
    "    for i in s:\n",
    "        print (i[0], i[1])"
   ]
  }
 ],
 "metadata": {
  "kernelspec": {
   "display_name": "Python 3 (ipykernel)",
   "language": "python",
   "name": "python3"
  },
  "language_info": {
   "codemirror_mode": {
    "name": "ipython",
    "version": 3
   },
   "file_extension": ".py",
   "mimetype": "text/x-python",
   "name": "python",
   "nbconvert_exporter": "python",
   "pygments_lexer": "ipython3",
   "version": "3.9.13"
  }
 },
 "nbformat": 4,
 "nbformat_minor": 5
}
